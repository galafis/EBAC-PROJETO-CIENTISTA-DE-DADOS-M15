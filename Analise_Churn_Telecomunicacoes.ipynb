{
 "cells": [
  {
   "cell_type": "markdown",
   "id": "ca79f346",
   "metadata": {},
   "source": [
    "# Análise Exploratória de Dados - Churn de Telecomunicações\n",
    "\n",
    "Este notebook contém uma análise exploratória completa dos dados de churn de uma empresa de telecomunicações.\n",
    "\n",
    "## Objetivos\n",
    "- Analisar o perfil dos clientes\n",
    "- Identificar padrões de cancelamento\n",
    "- Gerar insights para redução de churn\n",
    "\n",
    "## Estrutura da Análise\n",
    "1. Carregamento e Preparação dos Dados\n",
    "2. Análise Descritiva\n",
    "3. Análise de Churn\n",
    "4. Visualizações e Insights\n",
    "5. Recomendações"
   ]
  },
  {
   "cell_type": "code",
   "execution_count": null,
   "id": "e3eab669",
   "metadata": {},
   "outputs": [],
   "source": [
    "import pandas as pd\n",
    "import numpy as np\n",
    "import matplotlib.pyplot as plt\n",
    "import seaborn as sns\n",
    "\n",
    "# Configurações de visualização\n",
    "plt.style.use('default')\n",
    "pd.set_option('display.max_columns', None)"
   ]
  },
  {
   "cell_type": "markdown",
   "id": "ccd8a588",
   "metadata": {},
   "source": [
    "## 1. Carregamento e Preparação dos Dados\n",
    "Vamos carregar os dados do arquivo CSV e fazer uma análise inicial da estrutura dos dados."
   ]
  },
  {
   "cell_type": "code",
   "execution_count": null,
   "id": "edeaafc2",
   "metadata": {},
   "outputs": [],
   "source": [
    "# Carregar os dados\n",
    "df = pd.read_csv('CHURN_TELECON_MOD08_TAREFA.csv', delimiter=';')\n",
    "\n",
    "# Visualizar as primeiras linhas\n",
    "print(\"Primeiras linhas do dataset:\")\n",
    "df.head()"
   ]
  },
  {
   "cell_type": "code",
   "execution_count": null,
   "id": "8d4ac447",
   "metadata": {},
   "outputs": [],
   "source": [
    "# Informações sobre o DataFrame\n",
    "print(\"Informações do DataFrame:\")\n",
    "df.info()"
   ]
  },
  {
   "cell_type": "markdown",
   "id": "4b2d00f6",
   "metadata": {},
   "source": [
    "## 2. Análise Descritiva\n",
    "Vamos analisar as principais estatísticas descritivas e distribuições das variáveis."
   ]
  },
  {
   "cell_type": "code",
   "execution_count": null,
   "id": "f98d28c7",
   "metadata": {},
   "outputs": [],
   "source": [
    "# Estatísticas descritivas das variáveis numéricas\n",
    "print(\"Estatísticas descritivas:\")\n",
    "df.describe()"
   ]
  },
  {
   "cell_type": "code",
   "execution_count": null,
   "id": "0db4dcde",
   "metadata": {},
   "outputs": [],
   "source": [
    "# Análise de valores nulos\n",
    "print(\"Valores nulos por coluna:\")\n",
    "df.isnull().sum()"
   ]
  },
  {
   "cell_type": "markdown",
   "id": "6b80a758",
   "metadata": {},
   "source": [
    "## 3. Análise de Churn\n",
    "Vamos analisar detalhadamente os padrões de churn em relação a diferentes variáveis."
   ]
  },
  {
   "cell_type": "code",
   "execution_count": null,
   "id": "625aee36",
   "metadata": {},
   "outputs": [],
   "source": [
    "# Distribuição geral de Churn\n",
    "print(\"Distribuição de Churn:\")\n",
    "print(df['Churn'].value_counts(normalize=True).round(3) * 100)\n",
    "\n",
    "# Visualização\n",
    "plt.figure(figsize=(8, 5))\n",
    "sns.countplot(data=df, x='Churn')\n",
    "plt.title('Distribuição de Churn')\n",
    "plt.show()"
   ]
  },
  {
   "cell_type": "code",
   "execution_count": null,
   "id": "e7dedace",
   "metadata": {},
   "outputs": [],
   "source": [
    "# Análise de Churn por Tipo de Contrato\n",
    "contrato_churn = pd.crosstab(df['Tipo_Contrato'], df['Churn'], normalize='index') * 100\n",
    "\n",
    "plt.figure(figsize=(10, 6))\n",
    "contrato_churn[['Yes', 'No']].plot(kind='bar', stacked=True, color=['#e74c3c', '#2ecc71'])\n",
    "plt.title('Percentual de Churn por Tipo de Contrato')\n",
    "plt.ylabel('Percentual (%)')\n",
    "plt.xlabel('Tipo de Contrato')\n",
    "plt.legend(['Churn: Sim', 'Churn: Não'])\n",
    "plt.tight_layout()\n",
    "plt.show()\n",
    "\n",
    "print(\"\n",
    "Percentual de Churn por Tipo de Contrato:\")\n",
    "print(contrato_churn.round(2))"
   ]
  },
  {
   "cell_type": "code",
   "execution_count": null,
   "id": "53173f7a",
   "metadata": {},
   "outputs": [],
   "source": [
    "# Análise de Churn por Serviço de Internet\n",
    "df['Servico_Internet'] = df['Servico_Internet'].str.strip().str.lower()\n",
    "internet_churn = pd.crosstab(df['Servico_Internet'], df['Churn'], normalize='index') * 100\n",
    "\n",
    "plt.figure(figsize=(10, 6))\n",
    "internet_churn[['Yes', 'No']].plot(kind='bar', stacked=True, color=['#e67e22', '#3498db'])\n",
    "plt.title('Percentual de Churn por Serviço de Internet')\n",
    "plt.ylabel('Percentual (%)')\n",
    "plt.xlabel('Serviço de Internet')\n",
    "plt.legend(['Churn: Sim', 'Churn: Não'])\n",
    "plt.tight_layout()\n",
    "plt.show()\n",
    "\n",
    "print(\"\n",
    "Percentual de Churn por Serviço de Internet:\")\n",
    "print(internet_churn.round(2))"
   ]
  },
  {
   "cell_type": "code",
   "execution_count": null,
   "id": "a6c6febb",
   "metadata": {},
   "outputs": [],
   "source": [
    "# Análise de Tempo como Cliente vs Churn\n",
    "plt.figure(figsize=(10, 6))\n",
    "sns.boxplot(data=df, x='Churn', y='Tempo_como_Cliente', palette=['#e74c3c', '#2ecc71'])\n",
    "plt.title('Tempo como Cliente por Status de Churn')\n",
    "plt.xlabel('Churn')\n",
    "plt.ylabel('Tempo como Cliente (meses)')\n",
    "plt.show()\n",
    "\n",
    "print(\"\n",
    "Estatísticas de Tempo como Cliente por status de Churn:\")\n",
    "print(df.groupby('Churn')['Tempo_como_Cliente'].describe().round(2))"
   ]
  },
  {
   "cell_type": "markdown",
   "id": "7ef9871c",
   "metadata": {},
   "source": [
    "## 4. Insights Principais\n",
    "\n",
    "1. **Tipo de Contrato**:\n",
    "   - Contratos mensais têm taxa de churn de 42.4%\n",
    "   - Contratos anuais têm taxa de churn de 11.2%\n",
    "   - Contratos de dois anos têm taxa de churn de apenas 1.5%\n",
    "\n",
    "2. **Serviço de Internet**:\n",
    "   - Clientes com Fiber Optic têm maior taxa de churn (42%)\n",
    "   - DSL apresenta taxa moderada de churn (17.4%)\n",
    "   - Clientes sem internet têm baixa taxa de churn (6.1%)\n",
    "\n",
    "3. **Tempo como Cliente**:\n",
    "   - Clientes que cancelam têm média de 18 meses\n",
    "   - Clientes que permanecem têm média de 37 meses\n",
    "   - Período crítico: primeiros 10 meses\n",
    "\n",
    "## 5. Recomendações\n",
    "\n",
    "1. **Foco em Retenção**:\n",
    "   - Concentrar esforços nos primeiros 29 meses do cliente\n",
    "   - Oferecer incentivos para migração para contratos mais longos\n",
    "   - Investigar problemas com serviço Fiber Optic\n",
    "\n",
    "2. **Ações Sugeridas**:\n",
    "   - Criar programa de fidelidade para clientes mensais\n",
    "   - Oferecer descontos para contratos anuais ou bianuais\n",
    "   - Melhorar qualidade/suporte do serviço Fiber Optic\n",
    "   - Desenvolver programa especial de acompanhamento para novos clientes\n",
    "\n",
    "3. **Pontos de Atenção**:\n",
    "   - Alta taxa de churn em contratos mensais\n",
    "   - Problemas potenciais com serviço Fiber Optic\n",
    "   - Período crítico: primeiros 10 meses"
   ]
  }
 ],
 "metadata": {},
 "nbformat": 4,
 "nbformat_minor": 5
}
